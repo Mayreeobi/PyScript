{
 "cells": [
  {
   "cell_type": "code",
   "execution_count": 1,
   "id": "d89eead4",
   "metadata": {},
   "outputs": [],
   "source": [
    "import pandas as pd\n",
    "import numpy as np\n",
    "import seaborn as sns\n",
    "import matplotlib.pyplot as plt\n",
    "%matplotlib inline\n",
    "import geopandas as gpd\n",
    "from shapely.geometry import Point\n",
    "import networkx as nx\n",
    "\n",
    "pd.set_option('display.max_columns',None) #Shows all columns"
   ]
  },
  {
   "cell_type": "code",
   "execution_count": 2,
   "id": "cc6e3b55",
   "metadata": {},
   "outputs": [],
   "source": [
    "\n",
    "df = pd.read_csv(\"SM_POP_REFG_OR_10_7_4_2021Q2G03_5888662355695205822.csv\")\n",
    "df.head()"
   ]
  },
  {
   "cell_type": "code",
   "execution_count": null,
   "id": "1544fa49",
   "metadata": {},
   "outputs": [],
   "source": []
  }
 ],
 "metadata": {
  "kernelspec": {
   "display_name": "Python 3 (ipykernel)",
   "language": "python",
   "name": "python3"
  },
  "language_info": {
   "codemirror_mode": {
    "name": "ipython",
    "version": 3
   },
   "file_extension": ".py",
   "mimetype": "text/x-python",
   "name": "python",
   "nbconvert_exporter": "python",
   "pygments_lexer": "ipython3",
   "version": "3.11.5"
  }
 },
 "nbformat": 4,
 "nbformat_minor": 5
}
